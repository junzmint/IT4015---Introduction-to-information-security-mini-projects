{
 "cells": [
  {
   "cell_type": "code",
   "execution_count": 1,
   "metadata": {},
   "outputs": [],
   "source": [
    "import binascii"
   ]
  },
  {
   "cell_type": "code",
   "execution_count": 2,
   "metadata": {},
   "outputs": [],
   "source": [
    "ciphertexts = [\n",
    "     \"315c4eeaa8b5f8aaf9174145bf43e1784b8fa00dc71d885a804e5ee9fa40b16349c146fb778cdf2d3aff021dfff5b403b510d0d0455468aeb98622b137dae857553ccd8883a7bc37520e06e515d22c954eba5025b8cc57ee59418ce7dc6bc41556bdb36bbca3e8774301fbcaa3b83b220809560987815f65286764703de0f3d524400a19b159610b11ef3e\",\n",
    "     \"234c02ecbbfbafa3ed18510abd11fa724fcda2018a1a8342cf064bbde548b12b07df44ba7191d9606ef4081ffde5ad46a5069d9f7f543bedb9c861bf29c7e205132eda9382b0bc2c5c4b45f919cf3a9f1cb74151f6d551f4480c82b2cb24cc5b028aa76eb7b4ab24171ab3cdadb8356f\",\n",
    "     \"32510ba9a7b2bba9b8005d43a304b5714cc0bb0c8a34884dd91304b8ad40b62b07df44ba6e9d8a2368e51d04e0e7b207b70b9b8261112bacb6c866a232dfe257527dc29398f5f3251a0d47e503c66e935de81230b59b7afb5f41afa8d661cb\",\n",
    "     \"32510ba9aab2a8a4fd06414fb517b5605cc0aa0dc91a8908c2064ba8ad5ea06a029056f47a8ad3306ef5021eafe1ac01a81197847a5c68a1b78769a37bc8f4575432c198ccb4ef63590256e305cd3a9544ee4160ead45aef520489e7da7d835402bca670bda8eb775200b8dabbba246b130f040d8ec6447e2c767f3d30ed81ea2e4c1404e1315a1010e7229be6636aaa\",\n",
    "     \"3f561ba9adb4b6ebec54424ba317b564418fac0dd35f8c08d31a1fe9e24fe56808c213f17c81d9607cee021dafe1e001b21ade877a5e68bea88d61b93ac5ee0d562e8e9582f5ef375f0a4ae20ed86e935de81230b59b73fb4302cd95d770c65b40aaa065f2a5e33a5a0bb5dcaba43722130f042f8ec85b7c2070\",\n",
    "     \"32510bfbacfbb9befd54415da243e1695ecabd58c519cd4bd2061bbde24eb76a19d84aba34d8de287be84d07e7e9a30ee714979c7e1123a8bd9822a33ecaf512472e8e8f8db3f9635c1949e640c621854eba0d79eccf52ff111284b4cc61d11902aebc66f2b2e436434eacc0aba938220b084800c2ca4e693522643573b2c4ce35050b0cf774201f0fe52ac9f26d71b6cf61a711cc229f77ace7aa88a2f19983122b11be87a59c355d25f8e4\",\n",
    "     \"32510bfbacfbb9befd54415da243e1695ecabd58c519cd4bd90f1fa6ea5ba47b01c909ba7696cf606ef40c04afe1ac0aa8148dd066592ded9f8774b529c7ea125d298e8883f5e9305f4b44f915cb2bd05af51373fd9b4af511039fa2d96f83414aaaf261bda2e97b170fb5cce2a53e675c154c0d9681596934777e2275b381ce2e40582afe67650b13e72287ff2270abcf73bb028932836fbdecfecee0a3b894473c1bbeb6b4913a536ce4f9b13f1efff71ea313c8661dd9a4ce\",\n",
    "     \"315c4eeaa8b5f8bffd11155ea506b56041c6a00c8a08854dd21a4bbde54ce56801d943ba708b8a3574f40c00fff9e00fa1439fd0654327a3bfc860b92f89ee04132ecb9298f5fd2d5e4b45e40ecc3b9d59e9417df7c95bba410e9aa2ca24c5474da2f276baa3ac325918b2daada43d6712150441c2e04f6565517f317da9d3\",\n",
    "     \"271946f9bbb2aeadec111841a81abc300ecaa01bd8069d5cc91005e9fe4aad6e04d513e96d99de2569bc5e50eeeca709b50a8a987f4264edb6896fb537d0a716132ddc938fb0f836480e06ed0fcd6e9759f40462f9cf57f4564186a2c1778f1543efa270bda5e933421cbe88a4a52222190f471e9bd15f652b653b7071aec59a2705081ffe72651d08f822c9ed6d76e48b63ab15d0208573a7eef027\",\n",
    "     \"466d06ece998b7a2fb1d464fed2ced7641ddaa3cc31c9941cf110abbf409ed39598005b3399ccfafb61d0315fca0a314be138a9f32503bedac8067f03adbf3575c3b8edc9ba7f537530541ab0f9f3cd04ff50d66f1d559ba520e89a2cb2a83\",\n",
    "     \"32510ba9babebbbefd001547a810e67149caee11d945cd7fc81a05e9f85aac650e9052ba6a8cd8257bf14d13e6f0a803b54fde9e77472dbff89d71b57bddef121336cb85ccb8f3315f4b52e301d16e9f52f904\",\n",
    " ]\n",
    "\n",
    "target = \"32510ba9babebbbefd001547a810e67149caee11d945cd7fc81a05e9f85aac650e9052ba6a8cd8257bf14d13e6f0a803b54fde9e77472dbff89d71b57bddef121336cb85ccb8f3315f4b52e301d16e9f52f904\"\n",
    "length = len(ciphertexts)"
   ]
  },
  {
   "cell_type": "code",
   "execution_count": 3,
   "metadata": {},
   "outputs": [
    {
     "name": "stdout",
     "output_type": "stream",
     "text": [
      "[b'1\\\\N\\xea\\xa8\\xb5\\xf8\\xaa\\xf9\\x17AE\\xbfC\\xe1xK\\x8f\\xa0\\r\\xc7\\x1d\\x88Z\\x80N^\\xe9\\xfa@\\xb1cI\\xc1F\\xfbw\\x8c\\xdf-:\\xff\\x02\\x1d\\xff\\xf5\\xb4\\x03\\xb5\\x10\\xd0\\xd0ETh\\xae\\xb9\\x86\"\\xb17\\xda\\xe8WU<\\xcd\\x88\\x83\\xa7\\xbc7R\\x0e\\x06\\xe5\\x15\\xd2,\\x95N\\xbaP%\\xb8\\xccW\\xeeYA\\x8c\\xe7\\xdck\\xc4\\x15V\\xbd\\xb3k\\xbc\\xa3\\xe8wC\\x01\\xfb\\xca\\xa3\\xb8;\"\\x08\\tV\\t\\x87\\x81_e(gdp=\\xe0\\xf3\\xd5$@\\n\\x19\\xb1Ya\\x0b\\x11\\xef>', b'#L\\x02\\xec\\xbb\\xfb\\xaf\\xa3\\xed\\x18Q\\n\\xbd\\x11\\xfarO\\xcd\\xa2\\x01\\x8a\\x1a\\x83B\\xcf\\x06K\\xbd\\xe5H\\xb1+\\x07\\xdfD\\xbaq\\x91\\xd9`n\\xf4\\x08\\x1f\\xfd\\xe5\\xadF\\xa5\\x06\\x9d\\x9f\\x7fT;\\xed\\xb9\\xc8a\\xbf)\\xc7\\xe2\\x05\\x13.\\xda\\x93\\x82\\xb0\\xbc,\\\\KE\\xf9\\x19\\xcf:\\x9f\\x1c\\xb7AQ\\xf6\\xd5Q\\xf4H\\x0c\\x82\\xb2\\xcb$\\xcc[\\x02\\x8a\\xa7n\\xb7\\xb4\\xab$\\x17\\x1a\\xb3\\xcd\\xad\\xb85o', b'2Q\\x0b\\xa9\\xa7\\xb2\\xbb\\xa9\\xb8\\x00]C\\xa3\\x04\\xb5qL\\xc0\\xbb\\x0c\\x8a4\\x88M\\xd9\\x13\\x04\\xb8\\xad@\\xb6+\\x07\\xdfD\\xban\\x9d\\x8a#h\\xe5\\x1d\\x04\\xe0\\xe7\\xb2\\x07\\xb7\\x0b\\x9b\\x82a\\x11+\\xac\\xb6\\xc8f\\xa22\\xdf\\xe2WR}\\xc2\\x93\\x98\\xf5\\xf3%\\x1a\\rG\\xe5\\x03\\xc6n\\x93]\\xe8\\x120\\xb5\\x9bz\\xfb_A\\xaf\\xa8\\xd6a\\xcb', b'2Q\\x0b\\xa9\\xaa\\xb2\\xa8\\xa4\\xfd\\x06AO\\xb5\\x17\\xb5`\\\\\\xc0\\xaa\\r\\xc9\\x1a\\x89\\x08\\xc2\\x06K\\xa8\\xad^\\xa0j\\x02\\x90V\\xf4z\\x8a\\xd30n\\xf5\\x02\\x1e\\xaf\\xe1\\xac\\x01\\xa8\\x11\\x97\\x84z\\\\h\\xa1\\xb7\\x87i\\xa3{\\xc8\\xf4WT2\\xc1\\x98\\xcc\\xb4\\xefcY\\x02V\\xe3\\x05\\xcd:\\x95D\\xeeA`\\xea\\xd4Z\\xefR\\x04\\x89\\xe7\\xda}\\x83T\\x02\\xbc\\xa6p\\xbd\\xa8\\xebwR\\x00\\xb8\\xda\\xbb\\xba$k\\x13\\x0f\\x04\\r\\x8e\\xc6D~,v\\x7f=0\\xed\\x81\\xea.L\\x14\\x04\\xe11Z\\x10\\x10\\xe7\"\\x9b\\xe6cj\\xaa', b'?V\\x1b\\xa9\\xad\\xb4\\xb6\\xeb\\xecTBK\\xa3\\x17\\xb5dA\\x8f\\xac\\r\\xd3_\\x8c\\x08\\xd3\\x1a\\x1f\\xe9\\xe2O\\xe5h\\x08\\xc2\\x13\\xf1|\\x81\\xd9`|\\xee\\x02\\x1d\\xaf\\xe1\\xe0\\x01\\xb2\\x1a\\xde\\x87z^h\\xbe\\xa8\\x8da\\xb9:\\xc5\\xee\\rV.\\x8e\\x95\\x82\\xf5\\xef7_\\nJ\\xe2\\x0e\\xd8n\\x93]\\xe8\\x120\\xb5\\x9bs\\xfbC\\x02\\xcd\\x95\\xd7p\\xc6[@\\xaa\\xa0e\\xf2\\xa5\\xe3:Z\\x0b\\xb5\\xdc\\xab\\xa47\"\\x13\\x0f\\x04/\\x8e\\xc8[| p', b'2Q\\x0b\\xfb\\xac\\xfb\\xb9\\xbe\\xfdTA]\\xa2C\\xe1i^\\xca\\xbdX\\xc5\\x19\\xcdK\\xd2\\x06\\x1b\\xbd\\xe2N\\xb7j\\x19\\xd8J\\xba4\\xd8\\xde({\\xe8M\\x07\\xe7\\xe9\\xa3\\x0e\\xe7\\x14\\x97\\x9c~\\x11#\\xa8\\xbd\\x98\"\\xa3>\\xca\\xf5\\x12G.\\x8e\\x8f\\x8d\\xb3\\xf9c\\\\\\x19I\\xe6@\\xc6!\\x85N\\xba\\ry\\xec\\xcfR\\xff\\x11\\x12\\x84\\xb4\\xcca\\xd1\\x19\\x02\\xae\\xbcf\\xf2\\xb2\\xe46CN\\xac\\xc0\\xab\\xa98\"\\x0b\\x08H\\x00\\xc2\\xcaNi5\"d5s\\xb2\\xc4\\xce5\\x05\\x0b\\x0c\\xf7t \\x1f\\x0f\\xe5*\\xc9\\xf2mq\\xb6\\xcfa\\xa7\\x11\\xcc\"\\x9fw\\xac\\xe7\\xaa\\x88\\xa2\\xf1\\x99\\x83\\x12+\\x11\\xbe\\x87\\xa5\\x9c5]%\\xf8\\xe4', b'2Q\\x0b\\xfb\\xac\\xfb\\xb9\\xbe\\xfdTA]\\xa2C\\xe1i^\\xca\\xbdX\\xc5\\x19\\xcdK\\xd9\\x0f\\x1f\\xa6\\xea[\\xa4{\\x01\\xc9\\t\\xbav\\x96\\xcf`n\\xf4\\x0c\\x04\\xaf\\xe1\\xac\\n\\xa8\\x14\\x8d\\xd0fY-\\xed\\x9f\\x87t\\xb5)\\xc7\\xea\\x12])\\x8e\\x88\\x83\\xf5\\xe90_KD\\xf9\\x15\\xcb+\\xd0Z\\xf5\\x13s\\xfd\\x9bJ\\xf5\\x11\\x03\\x9f\\xa2\\xd9o\\x83AJ\\xaa\\xf2a\\xbd\\xa2\\xe9{\\x17\\x0f\\xb5\\xcc\\xe2\\xa5>g\\\\\\x15L\\r\\x96\\x81Yi4w~\"u\\xb3\\x81\\xce.@X*\\xfege\\x0b\\x13\\xe7\"\\x87\\xff\"p\\xab\\xcfs\\xbb\\x02\\x892\\x83o\\xbd\\xec\\xfe\\xce\\xe0\\xa3\\xb8\\x94G<\\x1b\\xbe\\xb6\\xb4\\x91:Sl\\xe4\\xf9\\xb1?\\x1e\\xff\\xf7\\x1e\\xa3\\x13\\xc8f\\x1d\\xd9\\xa4\\xce', b\"1\\\\N\\xea\\xa8\\xb5\\xf8\\xbf\\xfd\\x11\\x15^\\xa5\\x06\\xb5`A\\xc6\\xa0\\x0c\\x8a\\x08\\x85M\\xd2\\x1aK\\xbd\\xe5L\\xe5h\\x01\\xd9C\\xbap\\x8b\\x8a5t\\xf4\\x0c\\x00\\xff\\xf9\\xe0\\x0f\\xa1C\\x9f\\xd0eC'\\xa3\\xbf\\xc8`\\xb9/\\x89\\xee\\x04\\x13.\\xcb\\x92\\x98\\xf5\\xfd-^KE\\xe4\\x0e\\xcc;\\x9dY\\xe9A}\\xf7\\xc9[\\xbaA\\x0e\\x9a\\xa2\\xca$\\xc5GM\\xa2\\xf2v\\xba\\xa3\\xac2Y\\x18\\xb2\\xda\\xad\\xa4=g\\x12\\x15\\x04A\\xc2\\xe0OeeQ\\x7f1}\\xa9\\xd3\", b'\\'\\x19F\\xf9\\xbb\\xb2\\xae\\xad\\xec\\x11\\x18A\\xa8\\x1a\\xbc0\\x0e\\xca\\xa0\\x1b\\xd8\\x06\\x9d\\\\\\xc9\\x10\\x05\\xe9\\xfeJ\\xadn\\x04\\xd5\\x13\\xe9m\\x99\\xde%i\\xbc^P\\xee\\xec\\xa7\\t\\xb5\\n\\x8a\\x98\\x7fBd\\xed\\xb6\\x89o\\xb57\\xd0\\xa7\\x16\\x13-\\xdc\\x93\\x8f\\xb0\\xf86H\\x0e\\x06\\xed\\x0f\\xcdn\\x97Y\\xf4\\x04b\\xf9\\xcfW\\xf4VA\\x86\\xa2\\xc1w\\x8f\\x15C\\xef\\xa2p\\xbd\\xa5\\xe93B\\x1c\\xbe\\x88\\xa4\\xa5\"\"\\x19\\x0fG\\x1e\\x9b\\xd1_e+e;pq\\xae\\xc5\\x9a\\'\\x05\\x08\\x1f\\xfere\\x1d\\x08\\xf8\"\\xc9\\xedmv\\xe4\\x8bc\\xab\\x15\\xd0 \\x85s\\xa7\\xee\\xf0\\'', b'Fm\\x06\\xec\\xe9\\x98\\xb7\\xa2\\xfb\\x1dFO\\xed,\\xedvA\\xdd\\xaa<\\xc3\\x1c\\x99A\\xcf\\x11\\n\\xbb\\xf4\\t\\xed9Y\\x80\\x05\\xb39\\x9c\\xcf\\xaf\\xb6\\x1d\\x03\\x15\\xfc\\xa0\\xa3\\x14\\xbe\\x13\\x8a\\x9f2P;\\xed\\xac\\x80g\\xf0:\\xdb\\xf3W\\\\;\\x8e\\xdc\\x9b\\xa7\\xf57S\\x05A\\xab\\x0f\\x9f<\\xd0O\\xf5\\rf\\xf1\\xd5Y\\xbaR\\x0e\\x89\\xa2\\xcb*\\x83', b'2Q\\x0b\\xa9\\xba\\xbe\\xbb\\xbe\\xfd\\x00\\x15G\\xa8\\x10\\xe6qI\\xca\\xee\\x11\\xd9E\\xcd\\x7f\\xc8\\x1a\\x05\\xe9\\xf8Z\\xace\\x0e\\x90R\\xbaj\\x8c\\xd8%{\\xf1M\\x13\\xe6\\xf0\\xa8\\x03\\xb5O\\xde\\x9ewG-\\xbf\\xf8\\x9dq\\xb5{\\xdd\\xef\\x12\\x136\\xcb\\x85\\xcc\\xb8\\xf31_KR\\xe3\\x01\\xd1n\\x9fR\\xf9\\x04']\n"
     ]
    }
   ],
   "source": [
    "# Convert hexadecimal digits to asscii corresponding characters\n",
    "ciphertexts = [binascii.unhexlify(x) for x in ciphertexts]\n",
    "print(ciphertexts)"
   ]
  },
  {
   "cell_type": "code",
   "execution_count": 4,
   "metadata": {},
   "outputs": [],
   "source": [
    "# This method allows XOR operations on hexadecimal strings directly\n",
    "def strxor(a, b):     # xor two strings of different lengths\n",
    "    return \"\".join([chr(x ^ y) for x, y in zip(a, b)])"
   ]
  },
  {
   "cell_type": "code",
   "execution_count": 5,
   "metadata": {},
   "outputs": [],
   "source": [
    "# The XOR operation is performed on each character in the string, so the string to be operated on must be divided into one form before use.\n",
    "# The first method was used here, but the key s that were obtained were discarded as if they could not be converted to numbers.\n",
    "def stror1(a, b):\n",
    "    if len(a) > len(b):\n",
    "       return \"\".join([chr(ord(x) ^ ord(y)) for (x, y) in zip(a[:len(b)], b)])\n",
    "    else:\n",
    "       return \"\".join([chr(ord(x) ^ ord(y)) for (x, y) in zip(a, b[:len(a)])])"
   ]
  },
  {
   "cell_type": "code",
   "execution_count": 6,
   "metadata": {},
   "outputs": [],
   "source": [
    "def find_letter(s):\n",
    "    #Returns the position of a given letter in a given string\n",
    "    position = []\n",
    "    for index in range(len(s)):\n",
    "        #There may be more cases where whitespace is odd or zero\n",
    "        if (s[index] >= 'A' and s[index] <= 'Z') or (s[index] >= 'a' and s[index] <= 'z') or s[index] == chr(0):\n",
    "            # space_counts[index] += 1\n",
    "            position.append(index)\n",
    "    return position"
   ]
  },
  {
   "cell_type": "code",
   "execution_count": 7,
   "metadata": {},
   "outputs": [],
   "source": [
    "# Possibility of calculating space position\n",
    "def space_possibility(s):\n",
    "    space_new = []\n",
    "    for position in range(400):\n",
    "        count = 0\n",
    "        for idx_i in range(length - 1):\n",
    "            if position in s[idx_i]:\n",
    "                count += 1\n",
    "        if count > 7:  # If the XOR suffix occurs more than seven times, the plain text is considered a space\n",
    "            space_new.append(position)\n",
    "    return space_new"
   ]
  },
  {
   "cell_type": "code",
   "execution_count": 8,
   "metadata": {},
   "outputs": [],
   "source": [
    "# Location where possible space characters were found\n",
    "def find_space(ciphertexts):\n",
    "    space_possib = []  # Used to save possible spaces\n",
    "    # Using double loops to achieve double exclusive or\n",
    "    for ciphertext_i in ciphertexts:\n",
    "        space = []  # Used to save possible spaces\n",
    "        for ciphertext_j in ciphertexts:\n",
    "            # Do not disagree with yourself or\n",
    "            if ciphertext_i == ciphertext_j:\n",
    "                continue\n",
    "            xor_res = strxor(ciphertext_i, ciphertext_j)\n",
    "            # Record the position of possible space characters in each plaintext\n",
    "            space.append(find_letter(xor_res))\n",
    "        # Making a Possibility Judgment of Spaces Position\n",
    "        space_possib.append(space_possibility(space))\n",
    "    return space_possib"
   ]
  },
  {
   "cell_type": "code",
   "execution_count": 9,
   "metadata": {},
   "outputs": [],
   "source": [
    "#Compute to get corresponding Key\n",
    "def cal_key(cipher):\n",
    "    space_possib = find_space(cipher)\n",
    "    key = [0] * 200  #Store key\n",
    "    for cipher_idx in range(length):\n",
    "        for position in range(len(space_possib[cipher_idx])):\n",
    "            idx = space_possib[cipher_idx][position] #Hexadecimal, expressed in 2 bits\n",
    "            a = cipher[cipher_idx][idx]\n",
    "            key[space_possib[cipher_idx][position]] = a ^ ord(\" \") # Compute the key to get the result decimal (ascii code)\n",
    "\n",
    "    key_str = \"\" #Empty String for Keys\n",
    "    for k in key:\n",
    "        key_str += chr(k)#translate into\n",
    "    return key_str  #Get Key String"
   ]
  },
  {
   "cell_type": "code",
   "execution_count": 10,
   "metadata": {},
   "outputs": [
    {
     "name": "stdout",
     "output_type": "stream",
     "text": [
      "The secuet message is: Wh\u001an using a stream cipher, never use the key more than once\n"
     ]
    }
   ],
   "source": [
    "if __name__ == '__main__':\n",
    "    # space_possib = find_space(ciphertexts)\n",
    "    key = cal_key(ciphertexts)\n",
    "    result = \"\"\n",
    "    f = ''.join([chr(int(d, 16)) for d in [target[i:i + 2] for i in range(0, len(target), 2)]])\n",
    "    for letter in stror1(f, key):\n",
    "            result += letter\n",
    "    print(result)"
   ]
  }
 ],
 "metadata": {
  "interpreter": {
   "hash": "cf6663ca35ebd57d6121109460e534e72c1e1f8ff142ad985cdcb4b7e585eb79"
  },
  "kernelspec": {
   "display_name": "Python 3.9.5 64-bit",
   "name": "python3"
  },
  "language_info": {
   "codemirror_mode": {
    "name": "ipython",
    "version": 3
   },
   "file_extension": ".py",
   "mimetype": "text/x-python",
   "name": "python",
   "nbconvert_exporter": "python",
   "pygments_lexer": "ipython3",
   "version": "3.9.5"
  },
  "orig_nbformat": 4
 },
 "nbformat": 4,
 "nbformat_minor": 2
}
